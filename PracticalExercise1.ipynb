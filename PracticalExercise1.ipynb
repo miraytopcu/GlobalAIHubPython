{
 "cells": [
  {
   "cell_type": "markdown",
   "metadata": {},
   "source": [
    "## Plan an exciting adventure with a new friend\n",
    "Welcome to your first practical exercise for this course. Here you will get a chance to practice the concepts we've covered in the video lessons from the module and apply your new coding skills to plan an exciting adventure with a new friend you meet online."
   ]
  },
  {
   "cell_type": "markdown",
   "metadata": {},
   "source": [
    "## Warm up\n",
    "\n",
    "For this exercise, you will have to read the instructions, then write and run the code block. \n",
    "\n",
    "Let's test this. Do you remember all the keywords in Python? Probably not, but there is a quick and easy way to check them here.  \n",
    "\n",
    "1. Write the help() function in the code cell below and run the code. \n",
    "2. In the prompt that appears, type \"keywords\" and they will pop up."
   ]
  },
  {
   "cell_type": "code",
   "execution_count": 1,
   "metadata": {},
   "outputs": [
    {
     "name": "stdout",
     "output_type": "stream",
     "text": [
      "Welcome to Python 3.12's help utility! If this is your first time using\n",
      "Python, you should definitely check out the tutorial at\n",
      "https://docs.python.org/3.12/tutorial/.\n",
      "\n",
      "Enter the name of any module, keyword, or topic to get help on writing\n",
      "Python programs and using Python modules.  To get a list of available\n",
      "modules, keywords, symbols, or topics, enter \"modules\", \"keywords\",\n",
      "\"symbols\", or \"topics\".\n",
      "\n",
      "Each module also comes with a one-line summary of what it does; to list\n",
      "the modules whose name or summary contain a given string such as \"spam\",\n",
      "enter \"modules spam\".\n",
      "\n",
      "To quit this help utility and return to the interpreter,\n",
      "enter \"q\" or \"quit\".\n",
      "\n",
      "No Python documentation found for 'Escape'.\n",
      "Use help() to get the interactive help utility.\n",
      "Use help(str) for help on the str class.\n",
      "\n",
      "\n",
      "You are now leaving help and returning to the Python interpreter.\n",
      "If you want to ask for help on a particular object directly from the\n",
      "interpreter, you can type \"help(object)\".  Executing \"help('string')\"\n",
      "has the same effect as typing a particular string at the help> prompt.\n"
     ]
    }
   ],
   "source": [
    "help()"
   ]
  },
  {
   "cell_type": "markdown",
   "metadata": {},
   "source": [
    "🧨 Is the code cell above still running? If so, you can't continue!\n",
    "\n",
    "💣 Click the stop button next to the cell. Otherwise, it will continue to run infinitely and you will not be able to run other cells."
   ]
  },
  {
   "cell_type": "markdown",
   "metadata": {},
   "source": [
    "# Meet Amir\n",
    "\n",
    "Let's say you are browsing the internet, when a pop up message shows on your screen, someone wants to meet you. \n",
    " "
   ]
  },
  {
   "cell_type": "code",
   "execution_count": 2,
   "metadata": {},
   "outputs": [
    {
     "name": "stdout",
     "output_type": "stream",
     "text": [
      "Hello, my name is Amir! Nice to meet you. What is yours?\n"
     ]
    }
   ],
   "source": [
    "#Run this cell to see the message\n",
    "\n",
    "message = \"Hello, my name is Amir! Nice to meet you. What is yours?\"\n",
    "print(message)"
   ]
  },
  {
   "cell_type": "markdown",
   "metadata": {},
   "source": [
    "Now, how would you answer Amir? \n",
    "\n",
    "Use the cell below to prepare an answer for him with a greeting and your name and print it to the screen. \n",
    "\n",
    "📌 We use the built-in function print() in Python to show results as output."
   ]
  },
  {
   "cell_type": "code",
   "execution_count": 3,
   "metadata": {},
   "outputs": [
    {
     "name": "stdout",
     "output_type": "stream",
     "text": [
      "Hello, my name is Elena\n"
     ]
    }
   ],
   "source": [
    "#Write your answer and print it on the screen\n",
    "\n",
    "answer = \"Hello, my name is Elena\" \n",
    "print(answer)"
   ]
  },
  {
   "cell_type": "markdown",
   "metadata": {},
   "source": [
    "Good job! Right away Amir writes you back with an intriguing question. He says, \"Would you like to plan an exciting adventure with me today?\" Well, why not! But before you start planning, maybe you need to learn a little bit more about each other."
   ]
  },
  {
   "cell_type": "markdown",
   "metadata": {},
   "source": [
    "# Get to know each other\n",
    "\n",
    "You ask Amir to tell you a little bit about himself, and here's what he tells you."
   ]
  },
  {
   "cell_type": "code",
   "execution_count": 4,
   "metadata": {},
   "outputs": [
    {
     "name": "stdout",
     "output_type": "stream",
     "text": [
      "I am 20 years old, 1.76 tall brunette guy from Iran but I currently live in Turkey\n",
      "What about you? Tell me about yourself.\n"
     ]
    }
   ],
   "source": [
    "#Run the cell to see his message\n",
    "his_age = 20\n",
    "his_height = 1.76\n",
    "his_hair_color = \"brunette\"\n",
    "his_hometown = \"Iran\"\n",
    "where_he_lives = \"Turkey\"\n",
    "\n",
    "print(\"I am\", str(his_age),\"years old,\",str(his_height),\"tall\",his_hair_color,\"guy from\",his_hometown,\"but I currently live in\",where_he_lives)\n",
    "\n",
    "print(\"What about you? Tell me about yourself.\")"
   ]
  },
  {
   "cell_type": "markdown",
   "metadata": {},
   "source": [
    "Now it is your turn to share, but first some preparation is needed.\n",
    "\n",
    "1. Write in information about yourself using the variables below. \n",
    "2. If there's something you don't want to share, you can use comments. Just put a \"#\" symbol in front of the code line and Python will not execute that line of code.\n",
    "3. Check the datatype of each variable.\n",
    "\n",
    "📌 Remember that there are different data types in Python and in order to use them in a sentence you may have to convert some of them. "
   ]
  },
  {
   "cell_type": "code",
   "execution_count": 6,
   "metadata": {},
   "outputs": [
    {
     "name": "stdout",
     "output_type": "stream",
     "text": [
      "<class 'int'>\n",
      "<class 'float'>\n",
      "<class 'str'>\n",
      "<class 'str'>\n"
     ]
    }
   ],
   "source": [
    "#Please assign your age, height and other details you want to share.\n",
    "my_age = 22\n",
    "my_height = 1.65\n",
    "my_hair_color = \"black\"\n",
    "my_hometown = \"America\"\n",
    "where_i_live = \"London\"\n",
    "\n",
    "#Check the data type of the variables you want to use.\n",
    "print(type(my_age))\n",
    "print(type(my_height))\n",
    "print(type(my_hometown))\n",
    "print(type(where_i_live))\n"
   ]
  },
  {
   "cell_type": "markdown",
   "metadata": {},
   "source": [
    "Great, now that you know what you want to share and which variables need to be converted to strings, you're ready to write your sentence. "
   ]
  },
  {
   "cell_type": "code",
   "execution_count": 7,
   "metadata": {},
   "outputs": [
    {
     "name": "stdout",
     "output_type": "stream",
     "text": [
      "I am 22 years old, 1.65 tall girl from America but I currently live in London .\n"
     ]
    }
   ],
   "source": [
    "#Write a sentence using the print function to describe yourself using the variables above in the correct data type\n",
    "\n",
    "print(\"I am\", str(my_age),\"years old,\",str(my_height),\"tall\",\"girl from\",my_hometown,\"but I currently live in\",where_i_live,\".\")\n"
   ]
  },
  {
   "cell_type": "markdown",
   "metadata": {},
   "source": [
    "# Where to go and what to eat\n",
    "\n",
    "Now that you know each other a little better, you can start planning your adventure. But where do you start? \n",
    "\n",
    "Let's start with locations and food. Amir asks you to make a list of places in the world that you want to visit and meals that you like to eat.\n",
    " \n",
    "Create a list 'favorite_places_and_foods' that contains at least 5 places and 5 meals.\n"
   ]
  },
  {
   "cell_type": "code",
   "execution_count": 8,
   "metadata": {},
   "outputs": [
    {
     "name": "stdout",
     "output_type": "stream",
     "text": [
      "['Paris', 'Milan', 'Barcelona', 'Berlin', 'Vegas', 'Croissant', 'Pasta', 'Pizza', 'Hamburger', 'Steak']\n"
     ]
    }
   ],
   "source": [
    "#Create your list\n",
    "favourite_places_foods = [\"Paris\", \"Milan\", \"Barcelona\", \"Berlin\", \"Vegas\", \"Croissant\", \"Pasta\", \"Pizza\", \"Hamburger\", \"Steak\"]\n",
    "\n",
    "print(favourite_places_foods)"
   ]
  },
  {
   "cell_type": "markdown",
   "metadata": {},
   "source": [
    "It's quite tough to choose from such great options. You need to narrow it down to three items per category. \n",
    "\n",
    "1. First you have to separate or 'slice' the places from the meals. \n",
    "2. Then select the first three items from the places list and the last ones from the foods list.\n",
    "3. Print the remaining options to the screen. \n",
    "\n",
    "📌 Do you remember the list slicing technique? For example, Mylist[1:3] will give the second and third value from Mylist."
   ]
  },
  {
   "cell_type": "code",
   "execution_count": 9,
   "metadata": {},
   "outputs": [
    {
     "name": "stdout",
     "output_type": "stream",
     "text": [
      "['Paris', 'Milan', 'Barcelona']\n",
      "['Pizza', 'Hamburger', 'Steak']\n"
     ]
    }
   ],
   "source": [
    "#Create two separate lists for places and foods using the list slicing technique\n",
    "\n",
    "favourite_places = favourite_places_foods[0:5] #select all the places (Another option [:5])\n",
    "favourite_food = favourite_places_foods[5:10] #select all the foods (Another option [5:])\n",
    "\n",
    "#Select the first and last three from place and food lists\n",
    "first_three_places=favourite_places[0:3]\n",
    "last_three_foods =favourite_food[2:5]\n",
    "\n",
    "#Print both lists\n",
    "print(first_three_places)\n",
    "print(last_three_foods)"
   ]
  },
  {
   "cell_type": "markdown",
   "metadata": {},
   "source": [
    "It's quite hard to make a choice from these three. But why not let the computer choose for you? Do you remember the game of dice from our videos? Here is what you need to do.\n",
    "\n",
    "1. Import the random module\n",
    "2. Generate two random numbers between 0-2\n",
    "3. Use each number as the index to choose an item from your favourite-place and food lists\n",
    "4. Print the results to the screen\n"
   ]
  },
  {
   "cell_type": "code",
   "execution_count": 10,
   "metadata": {},
   "outputs": [
    {
     "name": "stdout",
     "output_type": "stream",
     "text": [
      "Paris\n",
      "Pizza\n"
     ]
    }
   ],
   "source": [
    "#Please import the random module and generate two random numbers between 0 and 2\n",
    "import random\n",
    "a = random.randint(0,2)\n",
    "b = random.randint(0,2)\n",
    "\n",
    "#Use the generated numbers as indexes of randomely chosen items from place and food lists\n",
    "\n",
    "meeting_place = first_three_places[a]\n",
    "meeting_food = last_three_foods[b]\n",
    "print(meeting_place)\n",
    "print(meeting_food)"
   ]
  },
  {
   "cell_type": "markdown",
   "metadata": {},
   "source": [
    "You must have found your location and food. But what else would you like to do on your adventure?\n",
    "\n",
    "# Activities \n",
    "\n",
    "Now, you have your place and meals, but after lunch there are still lots of activities that you can do together...or separately.\n",
    "\n",
    "Let's say there are three pre-defined options: playing chess, playing tennis and visiting a museum. Chess and tennis require both of you to participate, but you can visit the museum separately as well. \n",
    "\n",
    "We need a code to indicate which activities each of you would like to do and which ones will be able to do. A chance to use our logical operators. \n",
    "\n",
    "1. Define activities\n",
    "2. Use the operands 'True' and 'False' to indicate your and Amir's preference for each activity\n",
    "3. Use the logical operators 'and' and 'or' to define which activities you will be able to do\n",
    "\n",
    "📌 Please add in the responces for Amir as well, by the way he doesn't like sports, but loves board games. "
   ]
  },
  {
   "cell_type": "code",
   "execution_count": 11,
   "metadata": {},
   "outputs": [
    {
     "name": "stdout",
     "output_type": "stream",
     "text": [
      "We are going to play chess in the park! Answer: False\n",
      "We are going to play a game of tennis. Answer: True\n",
      "At least one of us is going to the museum. Answer: False\n"
     ]
    }
   ],
   "source": [
    "first_activity = \"lets play chess in the park\"\n",
    "second_activiy = \"lets play a game of tennis\"\n",
    "third_activity = \"lets go to the museum\"\n",
    "\n",
    "#Write your and Amir's preference for each activity either as \"True\" or \"False\"\n",
    "\n",
    "#First activity\n",
    "first_activity_your = True\n",
    "first_activity_friend = False\n",
    "\n",
    "#Example statement\n",
    "print(\"We are going to play chess in the park! Answer:\" ,first_activity_your and first_activity_friend)\n",
    " \n",
    "#Second activity\n",
    "second_activity_your = True\n",
    "second_activity_friend = True\n",
    " \n",
    "#Your turn to write the statement\n",
    "print(\"We are going to play a game of tennis. Answer:\" ,second_activity_your and second_activity_friend)\n",
    " \n",
    "#Third activity\n",
    "second_activity_your = False\n",
    "second_activity_friend = False\n",
    " \n",
    "print(\"At least one of us is going to the museum. Answer:\" ,second_activity_your or second_activity_friend)"
   ]
  },
  {
   "cell_type": "markdown",
   "metadata": {},
   "source": [
    "# Get a date\n",
    "\n",
    "Finally you know where to meet, what to eat and what do to. The only last thing to decide is when to meet. How would you ask Amir for the date and time he wants to go on this adventure with you? \n",
    "\n",
    "📌📌Hint: Use the input() function."
   ]
  },
  {
   "cell_type": "code",
   "execution_count": 12,
   "metadata": {},
   "outputs": [
    {
     "name": "stdout",
     "output_type": "stream",
     "text": [
      "We are going to Paris and we will eat Pizza in october\n"
     ]
    }
   ],
   "source": [
    "#Create a variable for your trip date that asks Amir for an input\n",
    "meeting_date = input('In which month do you want to do on our fun adventure?: ')\n",
    "\n",
    "#Print the date for the trip by using it in a sentence\n",
    "print(\"We are going to\",meeting_place, \"and we will eat\", meeting_food, \"in\", meeting_date)"
   ]
  }
 ],
 "metadata": {
  "kernelspec": {
   "display_name": "Python 3",
   "language": "python",
   "name": "python3"
  },
  "language_info": {
   "codemirror_mode": {
    "name": "ipython",
    "version": 3
   },
   "file_extension": ".py",
   "mimetype": "text/x-python",
   "name": "python",
   "nbconvert_exporter": "python",
   "pygments_lexer": "ipython3",
   "version": "3.12.3"
  }
 },
 "nbformat": 4,
 "nbformat_minor": 2
}
